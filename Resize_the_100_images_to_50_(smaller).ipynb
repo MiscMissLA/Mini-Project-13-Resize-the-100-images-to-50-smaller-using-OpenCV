{
  "nbformat": 4,
  "nbformat_minor": 0,
  "metadata": {
    "colab": {
      "provenance": [],
      "authorship_tag": "ABX9TyN2OaOZi4zdXyOgH+eIL2b5",
      "include_colab_link": true
    },
    "kernelspec": {
      "name": "python3",
      "display_name": "Python 3"
    },
    "language_info": {
      "name": "python"
    }
  },
  "cells": [
    {
      "cell_type": "markdown",
      "metadata": {
        "id": "view-in-github",
        "colab_type": "text"
      },
      "source": [
        "<a href=\"https://colab.research.google.com/github/MiscMissLA/Mini-Project-13-Resize-the-100-images-to-50-smaller-using-OpenCV/blob/main/Resize_the_100_images_to_50_(smaller).ipynb\" target=\"_parent\"><img src=\"https://colab.research.google.com/assets/colab-badge.svg\" alt=\"Open In Colab\"/></a>"
      ]
    },
    {
      "cell_type": "code",
      "source": [
        "pip install icrawler\n"
      ],
      "metadata": {
        "colab": {
          "base_uri": "https://localhost:8080/"
        },
        "id": "v-E81JQp5Z_Z",
        "outputId": "44566b2c-1277-42ed-e90d-6fbdbdb469f0"
      },
      "execution_count": 1,
      "outputs": [
        {
          "output_type": "stream",
          "name": "stdout",
          "text": [
            "Collecting icrawler\n",
            "  Downloading icrawler-0.6.10-py3-none-any.whl.metadata (6.2 kB)\n",
            "Requirement already satisfied: beautifulsoup4 in /usr/local/lib/python3.11/dist-packages (from icrawler) (4.13.4)\n",
            "Collecting bs4 (from icrawler)\n",
            "  Downloading bs4-0.0.2-py2.py3-none-any.whl.metadata (411 bytes)\n",
            "Requirement already satisfied: lxml in /usr/local/lib/python3.11/dist-packages (from icrawler) (5.4.0)\n",
            "Requirement already satisfied: pillow in /usr/local/lib/python3.11/dist-packages (from icrawler) (11.2.1)\n",
            "Requirement already satisfied: pyyaml in /usr/local/lib/python3.11/dist-packages (from icrawler) (6.0.2)\n",
            "Requirement already satisfied: requests in /usr/local/lib/python3.11/dist-packages (from icrawler) (2.32.3)\n",
            "Requirement already satisfied: six in /usr/local/lib/python3.11/dist-packages (from icrawler) (1.17.0)\n",
            "Requirement already satisfied: soupsieve>1.2 in /usr/local/lib/python3.11/dist-packages (from beautifulsoup4->icrawler) (2.7)\n",
            "Requirement already satisfied: typing-extensions>=4.0.0 in /usr/local/lib/python3.11/dist-packages (from beautifulsoup4->icrawler) (4.14.1)\n",
            "Requirement already satisfied: charset-normalizer<4,>=2 in /usr/local/lib/python3.11/dist-packages (from requests->icrawler) (3.4.2)\n",
            "Requirement already satisfied: idna<4,>=2.5 in /usr/local/lib/python3.11/dist-packages (from requests->icrawler) (3.10)\n",
            "Requirement already satisfied: urllib3<3,>=1.21.1 in /usr/local/lib/python3.11/dist-packages (from requests->icrawler) (2.4.0)\n",
            "Requirement already satisfied: certifi>=2017.4.17 in /usr/local/lib/python3.11/dist-packages (from requests->icrawler) (2025.7.14)\n",
            "Downloading icrawler-0.6.10-py3-none-any.whl (36 kB)\n",
            "Downloading bs4-0.0.2-py2.py3-none-any.whl (1.2 kB)\n",
            "Installing collected packages: bs4, icrawler\n",
            "Successfully installed bs4-0.0.2 icrawler-0.6.10\n"
          ]
        }
      ]
    },
    {
      "cell_type": "code",
      "execution_count": 2,
      "metadata": {
        "colab": {
          "base_uri": "https://localhost:8080/"
        },
        "id": "aK0LlPSs5YrJ",
        "outputId": "64261dd6-2bcc-451d-8fdd-04810301b9b7"
      },
      "outputs": [
        {
          "name": "stdout",
          "output_type": "stream",
          "text": [
            "Enter keyword to download 100 images for: anime\n"
          ]
        },
        {
          "output_type": "stream",
          "name": "stderr",
          "text": [
            "/usr/local/lib/python3.11/dist-packages/PIL/Image.py:3570: UserWarning: image file could not be identified because AVIF support not installed\n",
            "  warnings.warn(message)\n",
            "Exception in thread parser-001:\n",
            "Traceback (most recent call last):\n",
            "  File \"/usr/lib/python3.11/threading.py\", line 1045, in _bootstrap_inner\n",
            "    self.run()\n",
            "  File \"/usr/lib/python3.11/threading.py\", line 982, in run\n",
            "    self._target(*self._args, **self._kwargs)\n",
            "  File \"/usr/local/lib/python3.11/dist-packages/icrawler/parser.py\", line 93, in worker_exec\n",
            "    for task in self.parse(response, **kwargs):\n",
            "TypeError: 'NoneType' object is not iterable\n"
          ]
        },
        {
          "output_type": "stream",
          "name": "stdout",
          "text": [
            "\n",
            "✅ Finished. 75 valid images saved in folder: downloaded_anime\n"
          ]
        }
      ],
      "source": [
        "import os\n",
        "import logging\n",
        "from PIL import Image\n",
        "from icrawler.builtin import GoogleImageCrawler\n",
        "\n",
        "# Silence excessive logs\n",
        "logging.getLogger().setLevel(logging.CRITICAL)\n",
        "\n",
        "# 1. User input\n",
        "search_term = input(\"Enter keyword to download 100 images for: \").strip()\n",
        "\n",
        "# 2. Create output folder\n",
        "output_dir = f\"downloaded_{search_term.replace(' ', '_')}\"\n",
        "os.makedirs(output_dir, exist_ok=True)\n",
        "\n",
        "# 3. Set up Google crawler\n",
        "crawler = GoogleImageCrawler(storage={'root_dir': output_dir})\n",
        "\n",
        "# 4. Download more than 100 to account for broken/undownloadable images\n",
        "crawler.crawl(\n",
        "    keyword=search_term,\n",
        "    max_num=200,\n",
        "    min_size=(100, 100),\n",
        "    file_idx_offset=0\n",
        ")\n",
        "\n",
        "# 5. Verify and rename only valid images\n",
        "valid_images = []\n",
        "for filename in os.listdir(output_dir):\n",
        "    file_path = os.path.join(output_dir, filename)\n",
        "    try:\n",
        "        with Image.open(file_path) as img:\n",
        "            img.verify()  # Check image integrity\n",
        "        valid_images.append(file_path)\n",
        "    except:\n",
        "        os.remove(file_path)  # Remove broken image\n",
        "\n",
        "# Limit to 100 valid images\n",
        "valid_images = valid_images[:100]\n",
        "\n",
        "# Rename images to 1.jpg, 2.jpg, ...\n",
        "for idx, file_path in enumerate(valid_images, start=1):\n",
        "    new_path = os.path.join(output_dir, f\"{idx}.jpg\")\n",
        "    os.rename(file_path, new_path)\n",
        "\n",
        "print(f\"\\n✅ Finished. {len(valid_images)} valid images saved in folder: {output_dir}\")\n"
      ]
    },
    {
      "cell_type": "code",
      "source": [
        "import cv2\n",
        "import os\n",
        "\n",
        "# Input and output folders\n",
        "input_folder = \"/content/downloaded_anime\"    # <- Change if your folder is named differently\n",
        "output_folder = \"resized_anime\"\n",
        "os.makedirs(output_folder, exist_ok=True)\n",
        "\n",
        "# Resize each image to 50%\n",
        "for filename in sorted(os.listdir(input_folder)):\n",
        "    input_path = os.path.join(input_folder, filename)\n",
        "    output_path = os.path.join(output_folder, filename)\n",
        "\n",
        "    # Read the image\n",
        "    img = cv2.imread(input_path)\n",
        "\n",
        "    if img is None:\n",
        "        print(f\"⚠️ Could not read: {filename}\")\n",
        "        continue\n",
        "\n",
        "    # Get new dimensions\n",
        "    height, width = img.shape[:2]\n",
        "    new_dim = (width // 2, height // 2)\n",
        "\n",
        "    # Resize\n",
        "    resized_img = cv2.resize(img, new_dim, interpolation=cv2.INTER_AREA)\n",
        "\n",
        "    # Save resized image\n",
        "    cv2.imwrite(output_path, resized_img)\n",
        "    print(f\"✅ Resized: {filename} → {new_dim}\")\n",
        "\n",
        "print(\"\\n🎉 All images resized to 50% and saved in 'resized_flowers' folder.\")\n"
      ],
      "metadata": {
        "colab": {
          "base_uri": "https://localhost:8080/"
        },
        "id": "MiM_9mko5kFK",
        "outputId": "d68b4d84-ef56-46b4-d1db-0a3fd141b588"
      },
      "execution_count": 3,
      "outputs": [
        {
          "output_type": "stream",
          "name": "stdout",
          "text": [
            "✅ Resized: 1.jpg → (640, 360)\n",
            "✅ Resized: 10.jpg → (900, 450)\n",
            "✅ Resized: 11.jpg → (700, 350)\n",
            "✅ Resized: 12.jpg → (250, 375)\n",
            "✅ Resized: 13.jpg → (600, 337)\n",
            "✅ Resized: 14.jpg → (600, 337)\n",
            "✅ Resized: 15.jpg → (400, 225)\n",
            "✅ Resized: 16.jpg → (209, 313)\n",
            "✅ Resized: 17.jpg → (640, 360)\n",
            "✅ Resized: 18.jpg → (240, 360)\n",
            "✅ Resized: 19.jpg → (900, 450)\n",
            "✅ Resized: 2.jpg → (640, 640)\n",
            "✅ Resized: 20.jpg → (1100, 550)\n",
            "✅ Resized: 21.jpg → (325, 450)\n",
            "✅ Resized: 22.jpg → (600, 337)\n",
            "✅ Resized: 23.jpg → (375, 635)\n",
            "✅ Resized: 24.jpg → (960, 600)\n",
            "✅ Resized: 25.jpg → (240, 360)\n",
            "✅ Resized: 26.jpg → (600, 300)\n",
            "✅ Resized: 27.jpg → (270, 388)\n",
            "✅ Resized: 28.jpg → (396, 223)\n",
            "✅ Resized: 29.jpg → (640, 360)\n",
            "✅ Resized: 3.jpg → (381, 750)\n",
            "✅ Resized: 30.jpg → (800, 450)\n",
            "✅ Resized: 31.jpg → (450, 175)\n",
            "✅ Resized: 32.jpg → (616, 343)\n",
            "✅ Resized: 33.jpg → (375, 211)\n",
            "✅ Resized: 34.jpg → (648, 504)\n",
            "✅ Resized: 35.jpg → (512, 288)\n",
            "✅ Resized: 36.jpg → (1000, 500)\n",
            "✅ Resized: 37.jpg → (500, 281)\n",
            "✅ Resized: 38.jpg → (700, 350)\n",
            "✅ Resized: 39.jpg → (640, 360)\n",
            "✅ Resized: 4.jpg → (800, 450)\n",
            "✅ Resized: 40.jpg → (512, 288)\n",
            "✅ Resized: 41.jpg → (500, 333)\n",
            "✅ Resized: 42.jpg → (960, 540)\n",
            "✅ Resized: 43.jpg → (285, 400)\n",
            "✅ Resized: 44.jpg → (200, 112)\n",
            "✅ Resized: 45.jpg → (640, 360)\n",
            "✅ Resized: 46.jpg → (368, 368)\n",
            "✅ Resized: 47.jpg → (1100, 550)\n",
            "✅ Resized: 48.jpg → (313, 175)\n",
            "✅ Resized: 49.jpg → (149, 84)\n",
            "✅ Resized: 5.jpg → (700, 1000)\n",
            "✅ Resized: 50.jpg → (525, 680)\n",
            "✅ Resized: 51.jpg → (600, 314)\n",
            "✅ Resized: 52.jpg → (648, 364)\n",
            "✅ Resized: 53.jpg → (700, 350)\n",
            "✅ Resized: 54.jpg → (430, 242)\n",
            "✅ Resized: 55.jpg → (350, 190)\n",
            "✅ Resized: 56.jpg → (640, 360)\n",
            "✅ Resized: 57.jpg → (435, 290)\n",
            "✅ Resized: 58.jpg → (333, 500)\n",
            "✅ Resized: 59.jpg → (325, 260)\n",
            "✅ Resized: 6.jpg → (700, 350)\n",
            "✅ Resized: 60.jpg → (240, 428)\n",
            "✅ Resized: 61.jpg → (368, 654)\n",
            "✅ Resized: 62.jpg → (750, 422)\n",
            "✅ Resized: 63.jpg → (960, 540)\n",
            "✅ Resized: 64.jpg → (540, 540)\n",
            "✅ Resized: 65.jpg → (960, 540)\n",
            "✅ Resized: 66.jpg → (350, 540)\n",
            "✅ Resized: 67.jpg → (264, 330)\n",
            "✅ Resized: 68.jpg → (823, 461)\n",
            "✅ Resized: 69.jpg → (600, 337)\n",
            "✅ Resized: 7.jpg → (1000, 500)\n",
            "✅ Resized: 70.jpg → (353, 544)\n",
            "✅ Resized: 71.jpg → (450, 300)\n",
            "✅ Resized: 72.jpg → (707, 1000)\n",
            "✅ Resized: 73.jpg → (214, 300)\n",
            "✅ Resized: 74.jpg → (386, 500)\n",
            "✅ Resized: 75.jpg → (1280, 719)\n",
            "✅ Resized: 8.jpg → (444, 355)\n",
            "✅ Resized: 9.jpg → (700, 350)\n",
            "\n",
            "🎉 All images resized to 50% and saved in 'resized_flowers' folder.\n"
          ]
        }
      ]
    }
  ]
}